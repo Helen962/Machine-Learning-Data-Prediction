{
 "cells": [
  {
   "cell_type": "markdown",
   "metadata": {},
   "source": [
    "# Project"
   ]
  },
  {
   "cell_type": "code",
   "execution_count": null,
   "metadata": {},
   "outputs": [],
   "source": [
    "from __future__ import division \n",
    "import numpy as np\n",
    "import matplotlib.pyplot as plt\n",
    "import mltools as ml\n",
    "np.random.seed(0)\n",
    "%matplotlib inline"
   ]
  },
  {
   "cell_type": "code",
   "execution_count": null,
   "metadata": {},
   "outputs": [],
   "source": [
    "X = np.genfromtxt('data/X_train.txt', delimiter=',') \n",
    "Y = np.genfromtxt('data/Y_train.txt', delimiter=',') \n",
    "X,Y = ml.shuffleData(X,Y)\n",
    "Xtr, Xva, Ytr, Yva = ml.splitData(X, Y,0.75)"
   ]
  },
  {
   "cell_type": "markdown",
   "metadata": {},
   "source": [
    "# K-Nearest Neighbors"
   ]
  },
  {
   "cell_type": "code",
   "execution_count": 3,
   "metadata": {},
   "outputs": [
    {
     "name": "stdout",
     "output_type": "stream",
     "text": [
      "K= 1  AUC= 0.5205701512468429\n",
      "K= 2  AUC= 0.5132214706650797\n",
      "K= 5  AUC= 0.5329607803292014\n",
      "K= 10  AUC= 0.5440990507155921\n",
      "K= 50  AUC= 0.5545789183383169\n",
      "K= 100  AUC= 0.550181438151363\n",
      "K= 200  AUC= 0.5480053415391761\n"
     ]
    }
   ],
   "source": [
    "from sklearn.neighbors import KNeighborsClassifier\n",
    "from sklearn import  metrics\n",
    "K=[1,2,5,10,50,100,200]\n",
    "for i in K:\n",
    "    knn = KNeighborsClassifier(n_neighbors=i)\n",
    "    knn.fit(Xtr,Ytr)\n",
    "    y_pred = knn.predict(Xva)\n",
    "    print(\"K=\",i,\" AUC=\",metrics.roc_auc_score(Yva, y_pred))"
   ]
  },
  {
   "cell_type": "code",
   "execution_count": null,
   "metadata": {},
   "outputs": [],
   "source": []
  },
  {
   "cell_type": "markdown",
   "metadata": {},
   "source": [
    "# Linear models"
   ]
  },
  {
   "cell_type": "code",
   "execution_count": 5,
   "metadata": {},
   "outputs": [
    {
     "name": "stdout",
     "output_type": "stream",
     "text": [
      "degree= 1\n",
      " trainning error= 0.2501490609874931\n",
      "degree= 3\n",
      " trainning error= 0.2501490609874931\n",
      "degree= 5\n",
      " trainning error= 0.2501490609874931\n",
      "degree= 7\n",
      " trainning error= 0.2501490609874931\n",
      "degree= 10\n",
      " trainning error= 0.2501490609874931\n",
      "degree= 15\n",
      " trainning error= 0.2501490609874931\n",
      "degree= 18\n",
      " trainning error= 0.2501490609874931\n"
     ]
    }
   ],
   "source": [
    "from sklearn.linear_model import LinearRegression\n",
    "degrees = np.array([1,3,5,7,10,15,18])\n",
    "nFolds = 5\n",
    "\n",
    "def function(nFolds,degree):\n",
    "    J= np.zeros(nFolds)\n",
    "    for iFold in range(nFolds):\n",
    "        Xti,Xvi,Yti,Yvi = ml.crossValidate(Xtr,Ytr,nFolds,iFold)\n",
    "        XtiP = ml.transforms.fpoly(Xti, degree, bias=False)\n",
    "        XtiP,params = ml.transforms.rescale(XtiP)\n",
    "        learner = ml.linear.linearRegress(XtiP,Yti)\n",
    "        XviP,_ = ml.transforms.rescale(ml.transforms.fpoly(Xvi,degree,False), params)\n",
    "        XtiP,_ = ml.transforms.rescale( ml.transforms.fpoly(Xti,degree,False), params)\n",
    "        J[iFold] = learner.mse(XviP,Yvi)\n",
    "    return np.mean(J)\n",
    "\n",
    "for degree in degrees:\n",
    "    r=function(nFolds,degree)\n",
    "    print(\"degree=\",degree)\n",
    "    print(\" trainning error=\",r)"
   ]
  },
  {
   "cell_type": "code",
   "execution_count": null,
   "metadata": {},
   "outputs": [],
   "source": []
  },
  {
   "cell_type": "markdown",
   "metadata": {},
   "source": [
    "# AdaBoost"
   ]
  },
  {
   "cell_type": "code",
   "execution_count": null,
   "metadata": {
    "scrolled": false
   },
   "outputs": [],
   "source": [
    "from sklearn.ensemble import AdaBoostClassifier\n",
    "for i in range(1000,1003):\n",
    "    ada = AdaBoostClassifier(n_estimators=i,learning_rate=0.8)\n",
    "    Xi, Yi = ml.bootstrapData(Xtr, Ytr)\n",
    "    ada.fit(Xi,Yi)\n",
    "    y_pred = ada.predict(Xva)\n",
    "    print(i,accuracy_score(Ytr, ada.predict(Xtr)),accuracy_score(Yva, y_pred))"
   ]
  },
  {
   "cell_type": "code",
   "execution_count": 7,
   "metadata": {},
   "outputs": [
    {
     "name": "stdout",
     "output_type": "stream",
     "text": [
      "0.7531845772420278\n"
     ]
    }
   ],
   "source": [
    "import pandas\n",
    "from sklearn import model_selection\n",
    "from sklearn.ensemble import AdaBoostClassifier\n",
    "seed = 7\n",
    "kfold = model_selection.KFold(n_splits=5, random_state=seed)\n",
    "model = AdaBoostClassifier(n_estimators=2000, random_state=seed)\n",
    "Xi, Yi = ml.bootstrapData(Xtr, Ytr )\n",
    "results = model_selection.cross_val_score(model, Xi, Yi, cv=kfold)\n",
    "print(results.mean())"
   ]
  },
  {
   "cell_type": "markdown",
   "metadata": {},
   "source": [
    "# Gradient boosting"
   ]
  },
  {
   "cell_type": "code",
   "execution_count": null,
   "metadata": {},
   "outputs": [],
   "source": [
    "from sklearn.ensemble import GradientBoostingClassifier\n",
    "def gbc(depth):\n",
    "    n_bags = 25\n",
    "    bags = []\n",
    "    for l in range(n_bags):# Gradient boostingags):\n",
    "        Xi, Yi = ml.bootstrapData(Xtr, Ytr)\n",
    "        tree = GradientBoostingClassifier(max_depth=depth,n_estimators=100,loss='deviance')\n",
    "        tree.fit(Xi,Yi)\n",
    "        bags.append(tree)\n",
    "    Yvahat=np.zeros((Xva.shape[0],n_bags))\n",
    "    for i in range(n_bags):\n",
    "        Yvahat[:,i]=bags[i].predict(Xva)\n",
    "    predYte=np.mean(Yvahat, axis=1)\n",
    "    print(depth,metrics.roc_auc_score(Yva, predYte))\n",
    "gbc(5)"
   ]
  },
  {
   "cell_type": "code",
   "execution_count": 147,
   "metadata": {},
   "outputs": [],
   "source": [
    "from sklearn import  metrics \n",
    "from sklearn.ensemble import GradientBoostingClassifier\n",
    "np.random.seed(0) \n",
    "n_bags = 25\n",
    "bags = []\n",
    "for l in range(n_bags):\n",
    "    Xi, Yi = ml.bootstrapData(X, Y)\n",
    "    tree = GradientBoostingClassifier(max_depth=5)\n",
    "    tree.fit(Xi,Yi)\n",
    "    bags.append(tree)"
   ]
  },
  {
   "cell_type": "code",
   "execution_count": 148,
   "metadata": {},
   "outputs": [],
   "source": [
    "Xte = np.genfromtxt('data/X_test.txt', delimiter=',')\n",
    "Ytehat=np.zeros((Xte.shape[0],n_bags))\n",
    "for i in range(n_bags):\n",
    "    Ytehat[:,i]=bags[i].predict(Xte)\n",
    "predYte=np.mean(Ytehat, axis=1)\n",
    "Yte = np.vstack((np.arange(Xte.shape[0]), predYte)).T \n",
    "np.savetxt('problem3_3.txt',Yte,'%d, %.2f', header='Id,Predicted',comments='',delimiter=',')"
   ]
  },
  {
   "cell_type": "code",
   "execution_count": null,
   "metadata": {},
   "outputs": [],
   "source": []
  },
  {
   "cell_type": "markdown",
   "metadata": {},
   "source": [
    "# Random forests"
   ]
  },
  {
   "cell_type": "code",
   "execution_count": 142,
   "metadata": {},
   "outputs": [
    {
     "name": "stdout",
     "output_type": "stream",
     "text": [
      "0.7300563073290346\n"
     ]
    }
   ],
   "source": [
    "from sklearn import  metrics \n",
    "np.random.seed(0) \n",
    "n_bags = 25\n",
    "bags = []\n",
    "for l in range(n_bags):\n",
    "    Xi, Yi = ml.bootstrapData(Xtr, Ytr)\n",
    "    tree = ml.dtree.treeClassify(Xi, Yi, minLeaf=8,maxDepth=50,nFeatures =50,minParent=1024)\n",
    "    bags.append(tree)\n",
    "Yvahat=np.zeros((Xva.shape[0],n_bags))\n",
    "for i in range(n_bags):\n",
    "    Yvahat[:,i]=bags[i].predict(Xva)\n",
    "predYte=np.mean(Yvahat, axis=1)\n",
    "print(metrics.roc_auc_score(Yva, predYte))"
   ]
  },
  {
   "cell_type": "code",
   "execution_count": null,
   "metadata": {},
   "outputs": [],
   "source": []
  },
  {
   "cell_type": "code",
   "execution_count": null,
   "metadata": {},
   "outputs": [],
   "source": []
  }
 ],
 "metadata": {
  "kernelspec": {
   "display_name": "Python 3 (ipykernel)",
   "language": "python",
   "name": "python3"
  },
  "language_info": {
   "codemirror_mode": {
    "name": "ipython",
    "version": 3
   },
   "file_extension": ".py",
   "mimetype": "text/x-python",
   "name": "python",
   "nbconvert_exporter": "python",
   "pygments_lexer": "ipython3",
   "version": "3.9.7"
  }
 },
 "nbformat": 4,
 "nbformat_minor": 2
}
